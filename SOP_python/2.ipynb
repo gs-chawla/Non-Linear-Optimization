{
 "cells": [
  {
   "cell_type": "code",
   "execution_count": 1,
   "metadata": {},
   "outputs": [],
   "source": [
    "import random\n",
    "from scipy.optimize import minimize"
   ]
  },
  {
   "cell_type": "code",
   "execution_count": 2,
   "metadata": {},
   "outputs": [],
   "source": [
    "objective_function = lambda x: (4*x[0]**2) - (4*x[0]**4) + (x[0]**(6/3) + (x[0]*x[1]) - (4*x[1]**2) + (4*x[1]**4))"
   ]
  },
  {
   "cell_type": "code",
   "execution_count": 18,
   "metadata": {},
   "outputs": [],
   "source": [
    "def geneate_starting_points(number_of_points):\n",
    "    '''\n",
    "    number_of_points: how many points we want to generate\n",
    "    \n",
    "    returns a list of starting points\n",
    "    '''\n",
    "    starting_points = []\n",
    "    \n",
    "    for point in range(number_of_points):\n",
    "        \n",
    "        starting_points.append((random.random(), random.random()))\n",
    "        \n",
    "    return starting_points"
   ]
  },
  {
   "cell_type": "code",
   "execution_count": 19,
   "metadata": {},
   "outputs": [
    {
     "name": "stdout",
     "output_type": "stream",
     "text": [
      "[(0.3831901945797044, 0.5460573739079259), (0.8373890745646675, 0.5415787195290649), (0.6392592229671753, 0.15705051809996118), (0.2697676932586215, 0.7670697276424441), (0.5222613980178145, 0.7649962848686884)]\n",
      "[(0.3831901945797044, 0.5460573739079259), (0.8373890745646675, 0.5415787195290649), (0.6392592229671753, 0.15705051809996118), (0.2697676932586215, 0.7670697276424441), (0.5222613980178145, 0.7649962848686884)]\n",
      "[(0.3831901945797044, 0.5460573739079259), (0.8373890745646675, 0.5415787195290649), (0.6392592229671753, 0.15705051809996118), (0.2697676932586215, 0.7670697276424441), (0.5222613980178145, 0.7649962848686884)]\n",
      "[(0.3831901945797044, 0.5460573739079259), (0.8373890745646675, 0.5415787195290649), (0.6392592229671753, 0.15705051809996118), (0.2697676932586215, 0.7670697276424441), (0.5222613980178145, 0.7649962848686884)]\n"
     ]
    }
   ],
   "source": [
    "starting_points = geneate_starting_points(5)\n",
    "for point in range(4):\n",
    "    print(starting_points)\n",
    "\n"
   ]
  },
  {
   "cell_type": "code",
   "execution_count": 20,
   "metadata": {},
   "outputs": [],
   "source": [
    "cons = [\n",
    "    {'type': 'ineq', 'fun': lambda x: x[0] - 0.1}, # indoor seating >= 0.1\n",
    "    {'type': 'ineq', 'fun': lambda x: x[1] - 0.25} # outdoor seating >= 0.25\n",
    "]"
   ]
  },
  {
   "cell_type": "code",
   "execution_count": 21,
   "metadata": {},
   "outputs": [],
   "source": [
    "boundaries = [(0,1), (0,1)]"
   ]
  },
  {
   "cell_type": "code",
   "execution_count": 22,
   "metadata": {},
   "outputs": [
    {
     "name": "stdout",
     "output_type": "stream",
     "text": [
      "Optimal solution found:\n",
      "      -  Proportion of indoor seating to make available: 0.1\n",
      "      -  Proportion of outdoor seating to make available: 0.701\n",
      "      -  Risk index score: -0.88\n"
     ]
    }
   ],
   "source": [
    "\n",
    "first_iteration = True\n",
    "starting_points = geneate_starting_points(50)\n",
    "for point in starting_points:\n",
    "    # for each point run the algorithim\n",
    "    res = minimize(\n",
    "        objective_function,\n",
    "        [point[0], point[1]],\n",
    "        method='SLSQP',\n",
    "        bounds=boundaries,\n",
    "        constraints=cons\n",
    "    )\n",
    "    # first iteration always gonna be the best so far\n",
    "    if first_iteration:\n",
    "        better_solution_found = False\n",
    "        best = res\n",
    "    else:\n",
    "        # if we find a better solution, lets use it\n",
    "        if res.success and res.fun < best.fun:\n",
    "            better_solution_found = True\n",
    "            best = res\n",
    "            \n",
    "# print results if algorithim was successful\n",
    "if best.success:\n",
    "    print(f\"\"\"Optimal solution found:\n",
    "      -  Proportion of indoor seating to make available: {round(best.x[0], 3)}\n",
    "      -  Proportion of outdoor seating to make available: {round(best.x[1], 3)}\n",
    "      -  Risk index score: {round(best.fun, 3)}\"\"\")\n",
    "else: \n",
    "    print(\"No solution found to problem\")"
   ]
  },
  {
   "cell_type": "code",
   "execution_count": null,
   "metadata": {},
   "outputs": [],
   "source": []
  },
  {
   "cell_type": "code",
   "execution_count": null,
   "metadata": {},
   "outputs": [],
   "source": []
  },
  {
   "cell_type": "code",
   "execution_count": null,
   "metadata": {},
   "outputs": [],
   "source": []
  },
  {
   "cell_type": "code",
   "execution_count": null,
   "metadata": {},
   "outputs": [],
   "source": []
  },
  {
   "cell_type": "code",
   "execution_count": null,
   "metadata": {},
   "outputs": [],
   "source": []
  },
  {
   "cell_type": "code",
   "execution_count": null,
   "metadata": {},
   "outputs": [],
   "source": []
  },
  {
   "cell_type": "code",
   "execution_count": null,
   "metadata": {},
   "outputs": [],
   "source": []
  }
 ],
 "metadata": {
  "kernelspec": {
   "display_name": "Python 3",
   "language": "python",
   "name": "python3"
  },
  "language_info": {
   "codemirror_mode": {
    "name": "ipython",
    "version": 3
   },
   "file_extension": ".py",
   "mimetype": "text/x-python",
   "name": "python",
   "nbconvert_exporter": "python",
   "pygments_lexer": "ipython3",
   "version": "3.11.0"
  },
  "orig_nbformat": 4
 },
 "nbformat": 4,
 "nbformat_minor": 2
}
